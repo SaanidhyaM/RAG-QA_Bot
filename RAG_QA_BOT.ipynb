{
  "nbformat": 4,
  "nbformat_minor": 0,
  "metadata": {
    "colab": {
      "provenance": [],
      "authorship_tag": "ABX9TyP9nb07VgJoamFGmRglSzLr",
      "include_colab_link": true
    },
    "kernelspec": {
      "name": "python3",
      "display_name": "Python 3"
    },
    "language_info": {
      "name": "python"
    }
  },
  "cells": [
    {
      "cell_type": "markdown",
      "metadata": {
        "id": "view-in-github",
        "colab_type": "text"
      },
      "source": [
        "<a href=\"https://colab.research.google.com/github/SaanidhyaM/RAG-QA_Bot/blob/main/RAG_QA_BOT.ipynb\" target=\"_parent\"><img src=\"https://colab.research.google.com/assets/colab-badge.svg\" alt=\"Open In Colab\"/></a>"
      ]
    },
    {
      "cell_type": "code",
      "execution_count": null,
      "metadata": {
        "colab": {
          "base_uri": "https://localhost:8080/",
          "height": 297
        },
        "id": "QMTbFdsDywtJ",
        "outputId": "0fdb0b77-54c4-4480-ee74-3788de8fb5b4"
      },
      "outputs": [
        {
          "output_type": "stream",
          "name": "stdout",
          "text": [
            "Requirement already satisfied: pinecone-client in /usr/local/lib/python3.10/dist-packages (4.1.0)\n",
            "Requirement already satisfied: certifi>=2019.11.17 in /usr/local/lib/python3.10/dist-packages (from pinecone-client) (2024.2.2)\n",
            "Requirement already satisfied: tqdm>=4.64.1 in /usr/local/lib/python3.10/dist-packages (from pinecone-client) (4.66.4)\n",
            "Requirement already satisfied: typing-extensions>=3.7.4 in /usr/local/lib/python3.10/dist-packages (from pinecone-client) (4.11.0)\n",
            "Requirement already satisfied: urllib3>=1.26.0 in /usr/local/lib/python3.10/dist-packages (from pinecone-client) (2.0.7)\n"
          ]
        },
        {
          "output_type": "error",
          "ename": "FileNotFoundError",
          "evalue": "[Errno 2] No such file or directory: 'data.txt'",
          "traceback": [
            "\u001b[0;31m---------------------------------------------------------------------------\u001b[0m",
            "\u001b[0;31mFileNotFoundError\u001b[0m                         Traceback (most recent call last)",
            "\u001b[0;32m<ipython-input-3-d4639159524c>\u001b[0m in \u001b[0;36m<cell line: 8>\u001b[0;34m()\u001b[0m\n\u001b[1;32m      6\u001b[0m \u001b[0;34m\u001b[0m\u001b[0m\n\u001b[1;32m      7\u001b[0m \u001b[0;31m# load the text file containing business data. needs to be provided\u001b[0m\u001b[0;34m\u001b[0m\u001b[0;34m\u001b[0m\u001b[0m\n\u001b[0;32m----> 8\u001b[0;31m \u001b[0;32mwith\u001b[0m \u001b[0mopen\u001b[0m\u001b[0;34m(\u001b[0m\u001b[0;34m'data.txt'\u001b[0m\u001b[0;34m,\u001b[0m \u001b[0;34m'r'\u001b[0m\u001b[0;34m)\u001b[0m \u001b[0;32mas\u001b[0m \u001b[0mf\u001b[0m\u001b[0;34m:\u001b[0m\u001b[0;34m\u001b[0m\u001b[0;34m\u001b[0m\u001b[0m\n\u001b[0m\u001b[1;32m      9\u001b[0m     \u001b[0mdata\u001b[0m \u001b[0;34m=\u001b[0m \u001b[0mf\u001b[0m\u001b[0;34m.\u001b[0m\u001b[0mread\u001b[0m\u001b[0;34m(\u001b[0m\u001b[0;34m)\u001b[0m\u001b[0;34m\u001b[0m\u001b[0;34m\u001b[0m\u001b[0m\n\u001b[1;32m     10\u001b[0m \u001b[0;34m\u001b[0m\u001b[0m\n",
            "\u001b[0;31mFileNotFoundError\u001b[0m: [Errno 2] No such file or directory: 'data.txt'"
          ]
        }
      ],
      "source": [
        "!pip install pinecone-client\n",
        "\n",
        "import os\n",
        "import pinecone\n",
        "from transformers import AutoModelForSeq2SeqLM, AutoTokenizer\n",
        "\n",
        "# load the text file containing business data. needs to be provided along with location\n",
        "with open('data.txt', 'r') as f:\n",
        "    data = f.read()\n",
        "\n",
        "tokenizer =AutoTokenizer.from_pretrained('t5-base')\n",
        "model= AutoModelForSeq2SeqLM.from_pretrained('t5-base')\n",
        "\n",
        "# initialize the pinecone client with api key\n",
        "try:\n",
        "    pinecone.init(api_key='API_KEY')\n",
        "except Exception as e:\n",
        "    print(f\"Error initializing Pinecone client: {e}\")\n",
        "    exit(1)\n",
        "index_name='business_qa_index'\n",
        "try:\n",
        "    pinecone.create_index(index_name, dimension=128, metric='cosine', spec=ServerlessSpec(cloud=\"aws\", region=\"us-east-1\"))\n",
        "except Exception as e:\n",
        "    print(f\"Error creating Pinecone index: {e}\")\n",
        "    exit(1)\n",
        "\n",
        "# add the text data to the index\n",
        "vectors=[]\n",
        "for text in data.split('\\n'):\n",
        "    inputs=tokenizer.encode_plus(text,\n",
        "                                    add_special_tokens=True,\n",
        "                                    max_length=512,\n",
        "                                    return_attention_mask=True,\n",
        "                                    return_tensors='pt')\n",
        "    outputs=model(inputs['input_ids'], attention_mask=inputs['attention_mask'])\n",
        "    vector= outputs.last_hidden_state[:, 0, :]\n",
        "    vectors.append(vector.detach().numpy())\n",
        "\n",
        "pinecone.add_vectors(index_name, vectors)\n",
        "\n",
        "# RAG system\n",
        "def get_context(message, max_tokens=3000, min_score=0.7, get_only_text=True):\n",
        "    # Get the embeddings of the input message\n",
        "    inputs= tokenizer.encode_plus(message,\n",
        "                                    add_special_tokens=True,\n",
        "                                    max_length=512,\n",
        "                                    return_attention_mask=True,\n",
        "                                    return_tensors='pt')\n",
        "    outputs =model(inputs['input_ids'], attention_mask=inputs['attention_mask'])\n",
        "    embedding= outputs.last_hidden_state[:, 0, :]\n",
        "    results =pinecone.query(index_name, embedding, top_k=10)\n",
        "\n",
        "    # Filter the results based on the minimum score\n",
        "    filtered_results= [result for result in results if result.score >= min_score]\n",
        "\n",
        "    # Return the context as a string or a set of ScoredVectors\n",
        "    if get_only_text:\n",
        "        context= ' '.join([result.vector for result in filtered_results])\n",
        "    else:\n",
        "        context = filtered_results\n",
        "    return context\n",
        "\n",
        "def conversation_chain(messages):\n",
        "    context= ''\n",
        "    for message in messages:\n",
        "        context += get_context(message)\n",
        "    return {'answer': context}\n",
        "\n",
        "# Example queries\n",
        "query1 =\"What is the company's mission?\"\n",
        "result1= conversation_chain([query1])\n",
        "print(result1['answer'])\n",
        "\n",
        "query2= \"What are the company's values?\"\n",
        "result2= conversation_chain([query2])\n",
        "print(result2['answer'])\n",
        "\n",
        "query3 =\"What is the company's history?\"\n",
        "result3= conversation_chain([query3])\n",
        "print(result3['answer'])"
      ]
    }
  ]
}